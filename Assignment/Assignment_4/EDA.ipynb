{
 "cells": [
  {
   "cell_type": "code",
   "execution_count": 1,
   "id": "4cb48940-a430-4b0a-b282-7fcf3b6c9472",
   "metadata": {},
   "outputs": [],
   "source": [
    "import pandas as pd"
   ]
  },
  {
   "cell_type": "code",
   "execution_count": 2,
   "id": "a7f08acd-5fb4-44b8-95f4-715cf32a6926",
   "metadata": {},
   "outputs": [],
   "source": [
    "data = pd.read_excel(\"Online Retail.xlsx\")"
   ]
  },
  {
   "cell_type": "code",
   "execution_count": 3,
   "id": "84492f19-eb53-4387-873f-6658b06b4225",
   "metadata": {},
   "outputs": [
    {
     "data": {
      "text/html": [
       "<div>\n",
       "<style scoped>\n",
       "    .dataframe tbody tr th:only-of-type {\n",
       "        vertical-align: middle;\n",
       "    }\n",
       "\n",
       "    .dataframe tbody tr th {\n",
       "        vertical-align: top;\n",
       "    }\n",
       "\n",
       "    .dataframe thead th {\n",
       "        text-align: right;\n",
       "    }\n",
       "</style>\n",
       "<table border=\"1\" class=\"dataframe\">\n",
       "  <thead>\n",
       "    <tr style=\"text-align: right;\">\n",
       "      <th></th>\n",
       "      <th>InvoiceNo</th>\n",
       "      <th>StockCode</th>\n",
       "      <th>Description</th>\n",
       "      <th>Quantity</th>\n",
       "      <th>InvoiceDate</th>\n",
       "      <th>UnitPrice</th>\n",
       "      <th>CustomerID</th>\n",
       "      <th>Country</th>\n",
       "    </tr>\n",
       "  </thead>\n",
       "  <tbody>\n",
       "    <tr>\n",
       "      <th>0</th>\n",
       "      <td>536365</td>\n",
       "      <td>85123A</td>\n",
       "      <td>WHITE HANGING HEART T-LIGHT HOLDER</td>\n",
       "      <td>6</td>\n",
       "      <td>2010-12-01 08:26:00</td>\n",
       "      <td>2.55</td>\n",
       "      <td>17850.0</td>\n",
       "      <td>United Kingdom</td>\n",
       "    </tr>\n",
       "    <tr>\n",
       "      <th>1</th>\n",
       "      <td>536365</td>\n",
       "      <td>71053</td>\n",
       "      <td>WHITE METAL LANTERN</td>\n",
       "      <td>6</td>\n",
       "      <td>2010-12-01 08:26:00</td>\n",
       "      <td>3.39</td>\n",
       "      <td>17850.0</td>\n",
       "      <td>United Kingdom</td>\n",
       "    </tr>\n",
       "    <tr>\n",
       "      <th>2</th>\n",
       "      <td>536365</td>\n",
       "      <td>84406B</td>\n",
       "      <td>CREAM CUPID HEARTS COAT HANGER</td>\n",
       "      <td>8</td>\n",
       "      <td>2010-12-01 08:26:00</td>\n",
       "      <td>2.75</td>\n",
       "      <td>17850.0</td>\n",
       "      <td>United Kingdom</td>\n",
       "    </tr>\n",
       "    <tr>\n",
       "      <th>3</th>\n",
       "      <td>536365</td>\n",
       "      <td>84029G</td>\n",
       "      <td>KNITTED UNION FLAG HOT WATER BOTTLE</td>\n",
       "      <td>6</td>\n",
       "      <td>2010-12-01 08:26:00</td>\n",
       "      <td>3.39</td>\n",
       "      <td>17850.0</td>\n",
       "      <td>United Kingdom</td>\n",
       "    </tr>\n",
       "    <tr>\n",
       "      <th>4</th>\n",
       "      <td>536365</td>\n",
       "      <td>84029E</td>\n",
       "      <td>RED WOOLLY HOTTIE WHITE HEART.</td>\n",
       "      <td>6</td>\n",
       "      <td>2010-12-01 08:26:00</td>\n",
       "      <td>3.39</td>\n",
       "      <td>17850.0</td>\n",
       "      <td>United Kingdom</td>\n",
       "    </tr>\n",
       "    <tr>\n",
       "      <th>...</th>\n",
       "      <td>...</td>\n",
       "      <td>...</td>\n",
       "      <td>...</td>\n",
       "      <td>...</td>\n",
       "      <td>...</td>\n",
       "      <td>...</td>\n",
       "      <td>...</td>\n",
       "      <td>...</td>\n",
       "    </tr>\n",
       "    <tr>\n",
       "      <th>541904</th>\n",
       "      <td>581587</td>\n",
       "      <td>22613</td>\n",
       "      <td>PACK OF 20 SPACEBOY NAPKINS</td>\n",
       "      <td>12</td>\n",
       "      <td>2011-12-09 12:50:00</td>\n",
       "      <td>0.85</td>\n",
       "      <td>12680.0</td>\n",
       "      <td>France</td>\n",
       "    </tr>\n",
       "    <tr>\n",
       "      <th>541905</th>\n",
       "      <td>581587</td>\n",
       "      <td>22899</td>\n",
       "      <td>CHILDREN'S APRON DOLLY GIRL</td>\n",
       "      <td>6</td>\n",
       "      <td>2011-12-09 12:50:00</td>\n",
       "      <td>2.10</td>\n",
       "      <td>12680.0</td>\n",
       "      <td>France</td>\n",
       "    </tr>\n",
       "    <tr>\n",
       "      <th>541906</th>\n",
       "      <td>581587</td>\n",
       "      <td>23254</td>\n",
       "      <td>CHILDRENS CUTLERY DOLLY GIRL</td>\n",
       "      <td>4</td>\n",
       "      <td>2011-12-09 12:50:00</td>\n",
       "      <td>4.15</td>\n",
       "      <td>12680.0</td>\n",
       "      <td>France</td>\n",
       "    </tr>\n",
       "    <tr>\n",
       "      <th>541907</th>\n",
       "      <td>581587</td>\n",
       "      <td>23255</td>\n",
       "      <td>CHILDRENS CUTLERY CIRCUS PARADE</td>\n",
       "      <td>4</td>\n",
       "      <td>2011-12-09 12:50:00</td>\n",
       "      <td>4.15</td>\n",
       "      <td>12680.0</td>\n",
       "      <td>France</td>\n",
       "    </tr>\n",
       "    <tr>\n",
       "      <th>541908</th>\n",
       "      <td>581587</td>\n",
       "      <td>22138</td>\n",
       "      <td>BAKING SET 9 PIECE RETROSPOT</td>\n",
       "      <td>3</td>\n",
       "      <td>2011-12-09 12:50:00</td>\n",
       "      <td>4.95</td>\n",
       "      <td>12680.0</td>\n",
       "      <td>France</td>\n",
       "    </tr>\n",
       "  </tbody>\n",
       "</table>\n",
       "<p>541909 rows × 8 columns</p>\n",
       "</div>"
      ],
      "text/plain": [
       "       InvoiceNo StockCode                          Description  Quantity  \\\n",
       "0         536365    85123A   WHITE HANGING HEART T-LIGHT HOLDER         6   \n",
       "1         536365     71053                  WHITE METAL LANTERN         6   \n",
       "2         536365    84406B       CREAM CUPID HEARTS COAT HANGER         8   \n",
       "3         536365    84029G  KNITTED UNION FLAG HOT WATER BOTTLE         6   \n",
       "4         536365    84029E       RED WOOLLY HOTTIE WHITE HEART.         6   \n",
       "...          ...       ...                                  ...       ...   \n",
       "541904    581587     22613          PACK OF 20 SPACEBOY NAPKINS        12   \n",
       "541905    581587     22899         CHILDREN'S APRON DOLLY GIRL          6   \n",
       "541906    581587     23254        CHILDRENS CUTLERY DOLLY GIRL          4   \n",
       "541907    581587     23255      CHILDRENS CUTLERY CIRCUS PARADE         4   \n",
       "541908    581587     22138        BAKING SET 9 PIECE RETROSPOT          3   \n",
       "\n",
       "               InvoiceDate  UnitPrice  CustomerID         Country  \n",
       "0      2010-12-01 08:26:00       2.55     17850.0  United Kingdom  \n",
       "1      2010-12-01 08:26:00       3.39     17850.0  United Kingdom  \n",
       "2      2010-12-01 08:26:00       2.75     17850.0  United Kingdom  \n",
       "3      2010-12-01 08:26:00       3.39     17850.0  United Kingdom  \n",
       "4      2010-12-01 08:26:00       3.39     17850.0  United Kingdom  \n",
       "...                    ...        ...         ...             ...  \n",
       "541904 2011-12-09 12:50:00       0.85     12680.0          France  \n",
       "541905 2011-12-09 12:50:00       2.10     12680.0          France  \n",
       "541906 2011-12-09 12:50:00       4.15     12680.0          France  \n",
       "541907 2011-12-09 12:50:00       4.15     12680.0          France  \n",
       "541908 2011-12-09 12:50:00       4.95     12680.0          France  \n",
       "\n",
       "[541909 rows x 8 columns]"
      ]
     },
     "execution_count": 3,
     "metadata": {},
     "output_type": "execute_result"
    }
   ],
   "source": [
    "data"
   ]
  },
  {
   "cell_type": "code",
   "execution_count": 4,
   "id": "696c249c-c0fd-4508-9103-9033810c6699",
   "metadata": {},
   "outputs": [
    {
     "data": {
      "text/html": [
       "<div>\n",
       "<style scoped>\n",
       "    .dataframe tbody tr th:only-of-type {\n",
       "        vertical-align: middle;\n",
       "    }\n",
       "\n",
       "    .dataframe tbody tr th {\n",
       "        vertical-align: top;\n",
       "    }\n",
       "\n",
       "    .dataframe thead th {\n",
       "        text-align: right;\n",
       "    }\n",
       "</style>\n",
       "<table border=\"1\" class=\"dataframe\">\n",
       "  <thead>\n",
       "    <tr style=\"text-align: right;\">\n",
       "      <th></th>\n",
       "      <th>Quantity</th>\n",
       "      <th>UnitPrice</th>\n",
       "      <th>CustomerID</th>\n",
       "    </tr>\n",
       "  </thead>\n",
       "  <tbody>\n",
       "    <tr>\n",
       "      <th>count</th>\n",
       "      <td>541909.000000</td>\n",
       "      <td>541909.000000</td>\n",
       "      <td>406829.000000</td>\n",
       "    </tr>\n",
       "    <tr>\n",
       "      <th>mean</th>\n",
       "      <td>9.552250</td>\n",
       "      <td>4.611114</td>\n",
       "      <td>15287.690570</td>\n",
       "    </tr>\n",
       "    <tr>\n",
       "      <th>std</th>\n",
       "      <td>218.081158</td>\n",
       "      <td>96.759853</td>\n",
       "      <td>1713.600303</td>\n",
       "    </tr>\n",
       "    <tr>\n",
       "      <th>min</th>\n",
       "      <td>-80995.000000</td>\n",
       "      <td>-11062.060000</td>\n",
       "      <td>12346.000000</td>\n",
       "    </tr>\n",
       "    <tr>\n",
       "      <th>25%</th>\n",
       "      <td>1.000000</td>\n",
       "      <td>1.250000</td>\n",
       "      <td>13953.000000</td>\n",
       "    </tr>\n",
       "    <tr>\n",
       "      <th>50%</th>\n",
       "      <td>3.000000</td>\n",
       "      <td>2.080000</td>\n",
       "      <td>15152.000000</td>\n",
       "    </tr>\n",
       "    <tr>\n",
       "      <th>75%</th>\n",
       "      <td>10.000000</td>\n",
       "      <td>4.130000</td>\n",
       "      <td>16791.000000</td>\n",
       "    </tr>\n",
       "    <tr>\n",
       "      <th>max</th>\n",
       "      <td>80995.000000</td>\n",
       "      <td>38970.000000</td>\n",
       "      <td>18287.000000</td>\n",
       "    </tr>\n",
       "  </tbody>\n",
       "</table>\n",
       "</div>"
      ],
      "text/plain": [
       "            Quantity      UnitPrice     CustomerID\n",
       "count  541909.000000  541909.000000  406829.000000\n",
       "mean        9.552250       4.611114   15287.690570\n",
       "std       218.081158      96.759853    1713.600303\n",
       "min    -80995.000000  -11062.060000   12346.000000\n",
       "25%         1.000000       1.250000   13953.000000\n",
       "50%         3.000000       2.080000   15152.000000\n",
       "75%        10.000000       4.130000   16791.000000\n",
       "max     80995.000000   38970.000000   18287.000000"
      ]
     },
     "execution_count": 4,
     "metadata": {},
     "output_type": "execute_result"
    }
   ],
   "source": [
    "data.describe()"
   ]
  },
  {
   "cell_type": "code",
   "execution_count": 5,
   "id": "157e9f52-9837-4cf2-a71f-f23a6abcaca9",
   "metadata": {},
   "outputs": [
    {
     "name": "stdout",
     "output_type": "stream",
     "text": [
      "<class 'pandas.core.frame.DataFrame'>\n",
      "RangeIndex: 541909 entries, 0 to 541908\n",
      "Data columns (total 8 columns):\n",
      " #   Column       Non-Null Count   Dtype         \n",
      "---  ------       --------------   -----         \n",
      " 0   InvoiceNo    541909 non-null  object        \n",
      " 1   StockCode    541909 non-null  object        \n",
      " 2   Description  540455 non-null  object        \n",
      " 3   Quantity     541909 non-null  int64         \n",
      " 4   InvoiceDate  541909 non-null  datetime64[ns]\n",
      " 5   UnitPrice    541909 non-null  float64       \n",
      " 6   CustomerID   406829 non-null  float64       \n",
      " 7   Country      541909 non-null  object        \n",
      "dtypes: datetime64[ns](1), float64(2), int64(1), object(4)\n",
      "memory usage: 33.1+ MB\n"
     ]
    }
   ],
   "source": [
    "data.info()"
   ]
  },
  {
   "cell_type": "code",
   "execution_count": 6,
   "id": "fc5dabd9-5872-47d2-995c-ffd1c48474fc",
   "metadata": {},
   "outputs": [
    {
     "data": {
      "text/plain": [
       "InvoiceNo           0\n",
       "StockCode           0\n",
       "Description      1454\n",
       "Quantity            0\n",
       "InvoiceDate         0\n",
       "UnitPrice           0\n",
       "CustomerID     135080\n",
       "Country             0\n",
       "dtype: int64"
      ]
     },
     "execution_count": 6,
     "metadata": {},
     "output_type": "execute_result"
    }
   ],
   "source": [
    "data.isna().sum()"
   ]
  },
  {
   "cell_type": "code",
   "execution_count": 7,
   "id": "a816c1a4-0764-4126-ba78-54c2c9812c47",
   "metadata": {},
   "outputs": [],
   "source": [
    "# Remove the missing row\n",
    "data.dropna(how='any', inplace=True)"
   ]
  },
  {
   "cell_type": "code",
   "execution_count": 8,
   "id": "cb73a41f-5043-4e4e-9663-5b2795ec1e76",
   "metadata": {},
   "outputs": [
    {
     "data": {
      "text/plain": [
       "InvoiceNo      0\n",
       "StockCode      0\n",
       "Description    0\n",
       "Quantity       0\n",
       "InvoiceDate    0\n",
       "UnitPrice      0\n",
       "CustomerID     0\n",
       "Country        0\n",
       "dtype: int64"
      ]
     },
     "execution_count": 8,
     "metadata": {},
     "output_type": "execute_result"
    }
   ],
   "source": [
    "data.isna().sum()"
   ]
  },
  {
   "cell_type": "code",
   "execution_count": 9,
   "id": "9f425dc2-f33d-43ad-b7d4-90a4d2a249e0",
   "metadata": {},
   "outputs": [
    {
     "data": {
      "text/plain": [
       "array([536365, 536366, 536367, ..., 581585, 581586, 581587], dtype=object)"
      ]
     },
     "execution_count": 9,
     "metadata": {},
     "output_type": "execute_result"
    }
   ],
   "source": [
    "data[\"InvoiceNo\"].unique()"
   ]
  },
  {
   "cell_type": "code",
   "execution_count": 10,
   "id": "36956725-9768-44d5-8dc2-b87f04583fd4",
   "metadata": {},
   "outputs": [],
   "source": [
    "data_sales = data[~data[\"InvoiceNo\"].astype(str).str.startswith('C',na=False)]"
   ]
  },
  {
   "cell_type": "code",
   "execution_count": 11,
   "id": "fc9b407f-f75b-4041-9e8e-7d0cfb29f3f9",
   "metadata": {},
   "outputs": [],
   "source": [
    "# for C quantity is negative\n",
    "data_sales = data_sales[data_sales[\"Quantity\"] > 0]"
   ]
  },
  {
   "cell_type": "code",
   "execution_count": 12,
   "id": "6126dd2f-6dad-478b-8c42-e5e9fc32d727",
   "metadata": {},
   "outputs": [],
   "source": [
    "data_sale = data_sales[data_sales[\"UnitPrice\"] > 0]"
   ]
  },
  {
   "cell_type": "code",
   "execution_count": 13,
   "id": "559bb5ca-b4ec-46b5-a750-9887a31b18eb",
   "metadata": {},
   "outputs": [
    {
     "data": {
      "text/plain": [
       "260924"
      ]
     },
     "execution_count": 13,
     "metadata": {},
     "output_type": "execute_result"
    }
   ],
   "source": [
    "data_sale[\"Quantity\"].sum() - data[\"Quantity\"].sum() "
   ]
  },
  {
   "cell_type": "code",
   "execution_count": 14,
   "id": "91945a93-0e6a-4cc0-ac42-34c86958293a",
   "metadata": {},
   "outputs": [
    {
     "name": "stdout",
     "output_type": "stream",
     "text": [
      "<class 'pandas.core.series.Series'>\n",
      "Int64Index: 397884 entries, 0 to 541908\n",
      "Series name: Quantity\n",
      "Non-Null Count   Dtype\n",
      "--------------   -----\n",
      "397884 non-null  int64\n",
      "dtypes: int64(1)\n",
      "memory usage: 6.1 MB\n"
     ]
    }
   ],
   "source": [
    "data_sale[\"Quantity\"].info()"
   ]
  },
  {
   "cell_type": "code",
   "execution_count": 15,
   "id": "b8ede898-4ab8-4e01-b45b-182365dc6f64",
   "metadata": {},
   "outputs": [
    {
     "name": "stdout",
     "output_type": "stream",
     "text": [
      "<class 'pandas.core.series.Series'>\n",
      "Int64Index: 397884 entries, 0 to 541908\n",
      "Series name: UnitPrice\n",
      "Non-Null Count   Dtype  \n",
      "--------------   -----  \n",
      "397884 non-null  float64\n",
      "dtypes: float64(1)\n",
      "memory usage: 6.1 MB\n"
     ]
    }
   ],
   "source": [
    "data_sale[\"UnitPrice\"].info()"
   ]
  },
  {
   "cell_type": "code",
   "execution_count": 16,
   "id": "6a06dd4d-7a71-442d-848b-5586661a7ee5",
   "metadata": {},
   "outputs": [],
   "source": [
    "subset_data = data_sale.head(1000).copy()"
   ]
  },
  {
   "cell_type": "code",
   "execution_count": 17,
   "id": "16f6aab1-57ff-4a4f-b4aa-d3c2113153c9",
   "metadata": {},
   "outputs": [
    {
     "name": "stdout",
     "output_type": "stream",
     "text": [
      "<class 'pandas.core.frame.DataFrame'>\n",
      "Int64Index: 1000 entries, 0 to 1010\n",
      "Data columns (total 8 columns):\n",
      " #   Column       Non-Null Count  Dtype         \n",
      "---  ------       --------------  -----         \n",
      " 0   InvoiceNo    1000 non-null   object        \n",
      " 1   StockCode    1000 non-null   object        \n",
      " 2   Description  1000 non-null   object        \n",
      " 3   Quantity     1000 non-null   int64         \n",
      " 4   InvoiceDate  1000 non-null   datetime64[ns]\n",
      " 5   UnitPrice    1000 non-null   float64       \n",
      " 6   CustomerID   1000 non-null   float64       \n",
      " 7   Country      1000 non-null   object        \n",
      "dtypes: datetime64[ns](1), float64(2), int64(1), object(4)\n",
      "memory usage: 70.3+ KB\n"
     ]
    }
   ],
   "source": [
    "subset_data.info()"
   ]
  },
  {
   "cell_type": "markdown",
   "id": "ef3d11af-c774-4560-953b-dd7c038f19c8",
   "metadata": {},
   "source": [
    "<h4>Q1. Design and implement a 2nd normalized relational database and insert the dataset into\n",
    "database using SQL </h4>"
   ]
  },
  {
   "cell_type": "code",
   "execution_count": 18,
   "id": "ed168610-9d4c-4012-aa15-33adf008c577",
   "metadata": {},
   "outputs": [],
   "source": [
    "import mysql.connector"
   ]
  },
  {
   "cell_type": "code",
   "execution_count": 19,
   "id": "645a093a-1d2f-4d90-82db-dafd09a90d96",
   "metadata": {},
   "outputs": [],
   "source": [
    "conn = mysql.connector.connect(\n",
    "    host = \"localhost\",\n",
    "    user = \"root\",\n",
    "    password = \"#include\",\n",
    "    database = \"onlinedb\"\n",
    ")"
   ]
  },
  {
   "cell_type": "code",
   "execution_count": 20,
   "id": "229792ad-17fe-4225-9c37-e0178ffaa684",
   "metadata": {},
   "outputs": [],
   "source": [
    "cursor = conn.cursor()"
   ]
  },
  {
   "cell_type": "code",
   "execution_count": 21,
   "id": "5552202c-5308-4102-b527-0f8edd45c3ae",
   "metadata": {},
   "outputs": [],
   "source": [
    "product_data = subset_data[['StockCode','Description','UnitPrice']].drop_duplicates()"
   ]
  },
  {
   "cell_type": "code",
   "execution_count": 22,
   "id": "097e387c-ce49-4e36-a702-e3323a757d04",
   "metadata": {},
   "outputs": [],
   "source": [
    "invoice_header_data= subset_data[['InvoiceNo','InvoiceDate','CustomerID','Country']].drop_duplicates()"
   ]
  },
  {
   "cell_type": "code",
   "execution_count": 23,
   "id": "2b691061-ccfe-4ca5-b4e5-31c1f1a7191e",
   "metadata": {},
   "outputs": [],
   "source": [
    "invoice_details_data = subset_data[['InvoiceNo','StockCode','Quantity']]"
   ]
  },
  {
   "cell_type": "code",
   "execution_count": 24,
   "id": "88dba898-cb93-4a50-8579-ca3f17af5b9f",
   "metadata": {},
   "outputs": [],
   "source": [
    "# Strip whitespace and ensure StockCode is string\n",
    "product_data['StockCode'] = product_data['StockCode'].astype(str).str.strip()\n",
    "product_data = product_data.drop_duplicates(subset=['StockCode'])\n"
   ]
  },
  {
   "cell_type": "code",
   "execution_count": 25,
   "id": "d22e202c-f1d9-45ba-80e3-3a102f8cb4dd",
   "metadata": {},
   "outputs": [],
   "source": [
    "for _, row in product_data.iterrows():\n",
    "    cursor.execute(\"\"\"\n",
    "        INSERT IGNORE INTO Product (StockCode, Description, UnitPrice)\n",
    "        VALUES (%s, %s, %s)\n",
    "    \"\"\", tuple(row))\n"
   ]
  },
  {
   "cell_type": "code",
   "execution_count": 26,
   "id": "77a16366-a58a-4444-be94-da3d847450bc",
   "metadata": {},
   "outputs": [],
   "source": [
    "# Insert InvoiceHeader\n",
    "for _, row in invoice_header_data.iterrows():\n",
    "    cursor.execute(\"\"\"\n",
    "        INSERT IGNORE INTO InvoiceHeader (InvoiceNo, InvoiceDate, CustomerID, Country)\n",
    "        VALUES (%s, %s, %s, %s)\n",
    "    \"\"\", tuple(row))"
   ]
  },
  {
   "cell_type": "code",
   "execution_count": 27,
   "id": "8334d2dc-8c90-47f7-86ad-410841b5f6cc",
   "metadata": {},
   "outputs": [
    {
     "name": "stderr",
     "output_type": "stream",
     "text": [
      "/var/folders/_y/f2r75x1d16z5sqhx_jr3nqvw0000gn/T/ipykernel_18493/1043787788.py:2: SettingWithCopyWarning: \n",
      "A value is trying to be set on a copy of a slice from a DataFrame.\n",
      "Try using .loc[row_indexer,col_indexer] = value instead\n",
      "\n",
      "See the caveats in the documentation: https://pandas.pydata.org/pandas-docs/stable/user_guide/indexing.html#returning-a-view-versus-a-copy\n",
      "  invoice_details_data['InvoiceNo'] = invoice_details_data['InvoiceNo'].astype(str).str.strip()\n",
      "/var/folders/_y/f2r75x1d16z5sqhx_jr3nqvw0000gn/T/ipykernel_18493/1043787788.py:3: SettingWithCopyWarning: \n",
      "A value is trying to be set on a copy of a slice from a DataFrame.\n",
      "Try using .loc[row_indexer,col_indexer] = value instead\n",
      "\n",
      "See the caveats in the documentation: https://pandas.pydata.org/pandas-docs/stable/user_guide/indexing.html#returning-a-view-versus-a-copy\n",
      "  invoice_details_data['StockCode'] = invoice_details_data['StockCode'].astype(str).str.strip()\n"
     ]
    }
   ],
   "source": [
    "# Ensure InvoiceNo and StockCode are strings\n",
    "invoice_details_data['InvoiceNo'] = invoice_details_data['InvoiceNo'].astype(str).str.strip()\n",
    "invoice_details_data['StockCode'] = invoice_details_data['StockCode'].astype(str).str.strip()\n",
    "\n",
    "# Drop duplicate rows based on composite key (InvoiceNo, StockCode)\n",
    "invoice_details_data = invoice_details_data.drop_duplicates(subset=['InvoiceNo', 'StockCode'])\n"
   ]
  },
  {
   "cell_type": "code",
   "execution_count": 28,
   "id": "87b59686-ccb1-4768-9ef6-7fee3895ea3d",
   "metadata": {},
   "outputs": [],
   "source": [
    "for _, row in invoice_details_data.iterrows():\n",
    "    cursor.execute(\"\"\"\n",
    "        INSERT IGNORE INTO InvoiceDetail (InvoiceNo, StockCode, Quantity)\n",
    "        VALUES (%s, %s, %s)\n",
    "    \"\"\", tuple(row))\n"
   ]
  },
  {
   "cell_type": "code",
   "execution_count": 29,
   "id": "50304481-bbd1-4038-81be-37da404f1c08",
   "metadata": {},
   "outputs": [
    {
     "name": "stdout",
     "output_type": "stream",
     "text": [
      "Data inserted successfully into 2NF tables!\n"
     ]
    }
   ],
   "source": [
    "# Commit and close connection\n",
    "conn.commit()\n",
    "cursor.close()\n",
    "conn.close()\n",
    "\n",
    "print(\"Data inserted successfully into 2NF tables!\")"
   ]
  },
  {
   "cell_type": "markdown",
   "id": "97cfb0ed-9864-46ab-a1e2-9567d0f32abb",
   "metadata": {},
   "source": [
    "<h4>Q.2 Design and implement MongoDB's document-oriented approach (implement both\n",
    "transaction and customer centric approaches) and use PyMongo with connection\n",
    "pooling and error handling.</h4>"
   ]
  },
  {
   "cell_type": "code",
   "execution_count": 31,
   "id": "fa5b4f1a-495a-42f3-bacb-2dcf5f2050b3",
   "metadata": {},
   "outputs": [],
   "source": [
    "from pymongo.errors import (\n",
    "    ConnectionFailure,      # Use this instead of ConnectionError\n",
    "    BulkWriteError,\n",
    "    ServerSelectionTimeoutError,\n",
    "    OperationFailure,\n",
    "    DuplicateKeyError,\n",
    "    WriteError\n",
    ")"
   ]
  },
  {
   "cell_type": "code",
   "execution_count": 45,
   "id": "e9e9f0e8-ea0e-485d-a909-30aee129fa5a",
   "metadata": {},
   "outputs": [],
   "source": [
    "from pymongo import MongoClient\n",
    "from pymongo.errors import ConnectionFailure, BulkWriteError\n",
    "MONGO_URI = \"mongodb://127.0.0.1:27017/?directConnection=true&serverSelectionTimeoutMS=2000&appName=mongosh+2.5.8\"\n",
    "\n",
    "DB_NAME = \"OnlineRetailDB\""
   ]
  },
  {
   "cell_type": "code",
   "execution_count": 46,
   "id": "f57693de-b7ef-4083-b010-c80189304118",
   "metadata": {},
   "outputs": [],
   "source": [
    "def get_mongo_client():\n",
    "    \"\"\"Connects to MongoDB with error handling and returns the client.\"\"\"\n",
    "    try:\n",
    "        # MongoClient handles connection pooling automatically\n",
    "        client = MongoClient(MONGO_URI, serverSelectionTimeoutMS=5000)\n",
    "        # The ismaster command is cheap and does not require auth.\n",
    "        client.admin.command('ismaster')\n",
    "        print(\"Successfully connected to MongoDB.\")\n",
    "        return client\n",
    "    except ConnectionError as e:\n",
    "        print(f\"ERROR: Could not connect to MongoDB. Check URI and server status. Details: {e}\")\n",
    "        return None"
   ]
  },
  {
   "cell_type": "code",
   "execution_count": 47,
   "id": "d0be91dc-aaa8-425e-8817-4a2bfe3022d5",
   "metadata": {},
   "outputs": [],
   "source": [
    "def transform_to_transaction_centric(df):\n",
    "    \"\"\"Transforms the DataFrame into a list of transaction-centric MongoDB documents.\"\"\"\n",
    "\n",
    "    # Define the fields to be embedded as items\n",
    "    item_fields = ['StockCode', 'Description', 'Quantity', 'UnitPrice']\n",
    "\n",
    "    # 1. Group by InvoiceNo\n",
    "    transactions_grouped = df.groupby('InvoiceNo').agg(\n",
    "        # Aggregate the header fields (first non-null value)\n",
    "        InvoiceDate=('InvoiceDate', 'first'),\n",
    "        CustomerID=('CustomerID', 'first'),\n",
    "        Country=('Country', 'first'),\n",
    "        # Aggregate the item details into a list of dictionaries\n",
    "        Items=(item_fields, lambda x: x.to_dict('records'))\n",
    "    ).reset_index()\n",
    "\n",
    "    # 2. Rename InvoiceNo to _id (MongoDB primary key)\n",
    "    transactions_grouped = transactions_grouped.rename(columns={'InvoiceNo': '_id'})\n",
    "\n",
    "    # 3. Convert DataFrame to a list of dictionaries (JSON documents)\n",
    "    return transactions_grouped.to_dict('records')\n",
    "\n",
    "# transactions_data = transform_to_transaction_centric(df_subset)\n",
    "# print(f\"Prepared {len(transactions_data)} transaction documents.\")"
   ]
  },
  {
   "cell_type": "code",
   "execution_count": 48,
   "id": "984ae7a5-00b0-4459-8bd0-8fec659c0587",
   "metadata": {},
   "outputs": [],
   "source": [
    "def insert_transaction_centric(client, data):\n",
    "    \"\"\"Inserts transaction-centric documents into MongoDB.\"\"\"\n",
    "    if not client: return\n",
    "    db = client[DB_NAME]\n",
    "    collection = db['transactions']\n",
    "\n",
    "    try:\n",
    "        # Clear existing data for fresh insertion\n",
    "        collection.drop()\n",
    "\n",
    "        # Insert many documents in a single batch operation\n",
    "        result = collection.insert_many(data, ordered=False)\n",
    "        print(f\"Transaction-Centric: Successfully inserted {len(result.inserted_ids)} documents.\")\n",
    "    except BulkWriteError as bwe:\n",
    "        print(f\"Transaction-Centric: Bulk Write Error occurred (e.g., duplicate keys). Total errors: {len(bwe.details['writeErrors'])}\")\n",
    "    except Exception as e:\n",
    "        print(f\"Transaction-Centric: An unexpected error occurred during insertion: {e}\")"
   ]
  },
  {
   "cell_type": "code",
   "execution_count": 52,
   "id": "17daf663-c991-4bfc-9d3c-cfe12b71ea20",
   "metadata": {},
   "outputs": [],
   "source": [
    "def transform_to_transaction_centric(df):\n",
    "    \"\"\"Transforms the DataFrame into a list of transaction-centric MongoDB documents.\"\"\"\n",
    "\n",
    "    # 1. Group by InvoiceNo, aggregating simple fields first\n",
    "    transactions_grouped = df.groupby('InvoiceNo').agg(\n",
    "        InvoiceDate=('InvoiceDate', 'first'),\n",
    "        CustomerID=('CustomerID', 'first'),\n",
    "        Country=('Country', 'first')\n",
    "    ).reset_index()\n",
    "\n",
    "    # 2. Group the full DataFrame again to aggregate the complex 'Items' array\n",
    "    def create_items_list(group):\n",
    "        \"\"\"Converts the line items of a group into a list of dictionaries.\"\"\"\n",
    "        # Select the columns that define an 'Item' and convert them to a list of dicts\n",
    "        item_fields = ['StockCode', 'Description', 'Quantity', 'UnitPrice']\n",
    "        return group[item_fields].to_dict('records')\n",
    "\n",
    "    # Apply the item creation function to each group\n",
    "    items_agg = df.groupby('InvoiceNo').apply(create_items_list).rename('Items')\n",
    "\n",
    "    # 3. Merge the two aggregations\n",
    "    transactions_grouped = transactions_grouped.merge(\n",
    "        items_agg.reset_index(),\n",
    "        on='InvoiceNo',\n",
    "        how='left'\n",
    "    )\n",
    "\n",
    "    # 4. Rename InvoiceNo to _id (MongoDB primary key)\n",
    "    transactions_grouped = transactions_grouped.rename(columns={'InvoiceNo': '_id'})\n",
    "\n",
    "    # 5. Convert DataFrame to a list of dictionaries (JSON documents)\n",
    "    return transactions_grouped.to_dict('records')\n",
    "\n",
    "# transactions_data = transform_to_transaction_centric(df_subset)\n",
    "# # You can now proceed with insert_transaction_centric(client, transactions_data)"
   ]
  },
  {
   "cell_type": "code",
   "execution_count": 53,
   "id": "e418100f-a8e7-464a-8736-34912af0b590",
   "metadata": {},
   "outputs": [],
   "source": [
    "def insert_customer_centric(client, data):\n",
    "    \"\"\"Inserts customer-centric documents into MongoDB.\"\"\"\n",
    "    if not client: return\n",
    "    db = client[DB_NAME]\n",
    "    collection = db['customers']\n",
    "\n",
    "    try:\n",
    "        # Clear existing data for fresh insertion\n",
    "        collection.drop()\n",
    "\n",
    "        # Insert many documents\n",
    "        result = collection.insert_many(data, ordered=False)\n",
    "        print(f\"Customer-Centric: Successfully inserted {len(result.inserted_ids)} documents.\")\n",
    "    except BulkWriteError as bwe:\n",
    "        print(f\"Customer-Centric: Bulk Write Error occurred (e.g., duplicate customer IDs). Total errors: {len(bwe.details['writeErrors'])}\")\n",
    "    except Exception as e:\n",
    "        print(f\"Customer-Centric: An unexpected error occurred during insertion: {e}\")"
   ]
  },
  {
   "cell_type": "code",
   "execution_count": 54,
   "id": "4b4b71aa-854a-41f4-b7c5-7b5b4ce00f20",
   "metadata": {},
   "outputs": [
    {
     "name": "stdout",
     "output_type": "stream",
     "text": [
      "Successfully connected to MongoDB.\n",
      "\n",
      "--- Running Transaction-Centric Insertion ---\n",
      "Transaction-Centric: Successfully inserted 2 documents.\n",
      "\n",
      "--- Running Customer-Centric Insertion ---\n",
      "Customer-Centric: Successfully inserted 1 documents.\n",
      "\n",
      "MongoDB connection closed.\n"
     ]
    }
   ],
   "source": [
    "if __name__ == '__main__':\n",
    "    # --- Assuming df_subset is loaded and cleaned ---\n",
    "    # Example placeholder for your data (replace with actual loading)\n",
    "    # Note: Using a small sample here for demonstration\n",
    "    df_subset = pd.DataFrame({\n",
    "        'InvoiceNo': ['536365', '536365', '536366', '536366'],\n",
    "        'StockCode': ['85123A', '71053', '22745', '21755'],\n",
    "        'Description': ['WHITE HANGING', 'WHITE METAL', 'HEART DECOR', 'LOVE HEART'],\n",
    "        'Quantity': [6, 6, 8, 10],\n",
    "        'InvoiceDate': ['2010-12-01', '2010-12-01', '2010-12-01', '2010-12-01'],\n",
    "        'UnitPrice': [2.55, 3.39, 1.85, 1.65],\n",
    "        'CustomerID': [17850.0, 17850.0, 17850.0, 17850.0],\n",
    "        'Country': ['United Kingdom', 'United Kingdom', 'United Kingdom', 'United Kingdom']\n",
    "    })\n",
    "    df_subset['InvoiceDate'] = pd.to_datetime(df_subset['InvoiceDate'])\n",
    "    # ------------------------------------------------\n",
    "\n",
    "    # 1. Get Mongo Client\n",
    "    client = get_mongo_client()\n",
    "\n",
    "    if client:\n",
    "        # 2. Transaction-Centric Implementation\n",
    "        print(\"\\n--- Running Transaction-Centric Insertion ---\")\n",
    "        transactions_data = transform_to_transaction_centric(df_subset)\n",
    "        insert_transaction_centric(client, transactions_data)\n",
    "\n",
    "        # 3. Customer-Centric Implementation\n",
    "        print(\"\\n--- Running Customer-Centric Insertion ---\")\n",
    "        customers_data = transform_to_customer_centric(df_subset)\n",
    "        insert_customer_centric(client, customers_data)\n",
    "\n",
    "        # Close the client connection\n",
    "        client.close()\n",
    "        print(\"\\nMongoDB connection closed.\")"
   ]
  },
  {
   "cell_type": "code",
   "execution_count": null,
   "id": "b9c5520c-7a4a-455a-81ba-4f988d9d5118",
   "metadata": {},
   "outputs": [],
   "source": []
  }
 ],
 "metadata": {
  "kernelspec": {
   "display_name": "Python 3 (ipykernel)",
   "language": "python",
   "name": "python3"
  },
  "language_info": {
   "codemirror_mode": {
    "name": "ipython",
    "version": 3
   },
   "file_extension": ".py",
   "mimetype": "text/x-python",
   "name": "python",
   "nbconvert_exporter": "python",
   "pygments_lexer": "ipython3",
   "version": "3.8.15"
  }
 },
 "nbformat": 4,
 "nbformat_minor": 5
}
